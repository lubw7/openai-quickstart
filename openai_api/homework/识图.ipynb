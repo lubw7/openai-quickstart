{
 "cells": [
  {
   "cell_type": "code",
   "execution_count": 4,
   "id": "2cb9510b-132c-46a2-8019-cfc7693c5296",
   "metadata": {},
   "outputs": [
    {
     "data": {
      "text/plain": [
       "'这张图片是一本笔记本的两页，内容主要涉及自然语言处理（NLP）中的技术和模型更新。笔记记录了各种技术、模型、更新方法和相关研究机构。\\n\\n左页笔记：\\n1. 提到了Transformer模型，这是自然语言处理领域中常用的一个重要模型。\\n2. 提及各种改进方法，如PEFT (可能代表一个特定的Fine-Tuning方法)，PBFT Methods。\\n3. 讨论了利用Prompt Tuning进行模型调整的不同方式，例如Adapter、Prefix、P-Tuning V1和V2、Soft Prompts、Hand Prompts。\\n4. 列举了一些具体的大型预训练模型，如GPT、BLOOM、MOSS等。\\n\\n右页笔记：\\n1. 讨论了多模态指导微调（multi-modality Instruction Fine-Tuning），以及LLaMA (可能是一个大规模语言模型)。\\n2. 提到了LoRA、GLoRA、AdaptLoRA等方法，这些可能是用于微调大型语言模型的技术。\\n3. 右页同样提及了代入形式（insertion form），增加类型表示、适配器使用等研究点。\\n\\n整体上，这些笔记看起来是对最新的自然语言处理技术和模型微调技术的摘要或个人学习记录。'"
      ]
     },
     "execution_count": 4,
     "metadata": {},
     "output_type": "execute_result"
    }
   ],
   "source": [
    "from openai import OpenAI\n",
    "import base64\n",
    "import requests\n",
    "import json\n",
    "import os\n",
    "\n",
    "client = OpenAI(base_url='https://api.xiaoai.plus/v1')  # 初始化 OpenAI 客户端\n",
    "\n",
    "def query_base64_image_description(image_path, prompt=\"解释下图里的内容？\", max_tokens=1000):\n",
    "\n",
    "    # 实现 Base64 编码\n",
    "    def encode_image(path):\n",
    "        with open(path, \"rb\") as image_file:\n",
    "            return base64.b64encode(image_file.read()).decode('utf-8')\n",
    "\n",
    "    # 获取图像的 Base64 编码字符串\n",
    "    base64_image = encode_image(image_path)\n",
    "\n",
    "    # 构造请求的 HTTP Header\n",
    "    headers = {\n",
    "        \"Content-Type\": \"application/json\",\n",
    "        \"Authorization\": f\"Bearer {client.api_key}\"\n",
    "    }\n",
    "\n",
    "    # 构造请求的负载\n",
    "    payload = {\n",
    "        \"model\": \"gpt-4-turbo\",\n",
    "        \"messages\": [\n",
    "            {\n",
    "                \"role\": \"user\",\n",
    "                \"content\": [\n",
    "                    {\"type\": \"text\", \"text\": prompt},\n",
    "                    {\"type\": \"image_url\", \"image_url\": {\"url\": f\"data:image/jpeg;base64,{base64_image}\"}}\n",
    "                ]\n",
    "            }\n",
    "        ],\n",
    "        \"max_tokens\": max_tokens\n",
    "    }\n",
    "\n",
    "    # 发送 HTTP 请求\n",
    "    response = requests.post(\"https://api.xiaoai.plus/v1/chat/completions\", headers=headers, json=payload)\n",
    "\n",
    "    # 检查响应并提取所需的 content 字段\n",
    "    if response.status_code == 200:\n",
    "        response_data = response.json()\n",
    "        content = response_data['choices'][0]['message']['content']\n",
    "        return content\n",
    "    else:\n",
    "        return f\"Error: {response.status_code}, {response.text}\"\n",
    "\n",
    "query_base64_image_description('../images/gpt-4v.jpg')"
   ]
  },
  {
   "cell_type": "code",
   "execution_count": null,
   "id": "33587628-f33b-4dbb-aa62-cd7648505792",
   "metadata": {},
   "outputs": [],
   "source": []
  }
 ],
 "metadata": {
  "kernelspec": {
   "display_name": "Python 3 (ipykernel)",
   "language": "python",
   "name": "python3"
  },
  "language_info": {
   "codemirror_mode": {
    "name": "ipython",
    "version": 3
   },
   "file_extension": ".py",
   "mimetype": "text/x-python",
   "name": "python",
   "nbconvert_exporter": "python",
   "pygments_lexer": "ipython3",
   "version": "3.10.14"
  }
 },
 "nbformat": 4,
 "nbformat_minor": 5
}
